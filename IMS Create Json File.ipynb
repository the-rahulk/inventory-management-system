{
  "nbformat": 4,
  "nbformat_minor": 0,
  "metadata": {
    "colab": {
      "name": "IMS Create Json File",
      "provenance": []
    },
    "kernelspec": {
      "name": "python3",
      "display_name": "Python 3"
    },
    "language_info": {
      "name": "python"
    }
  },
  "cells": [
    {
      "cell_type": "code",
      "metadata": {
        "id": "2dZJCTgxrUFI"
      },
      "source": [
        "products = {\n",
        "    1001 : {\"Name\" : \"Milk\", \"Price\" : 45, \"net_wt\" : \"1 Litre\", \"Brand\" : \"Amul\", \"Quantity\" : 100 },\n",
        "    1002 : {\"Name\" : \"Paneer\", \"Price\" : 83, \"net_wt\" : \"200 gram\", \"Brand\" : \"Gowardhan\", \"Quantity\" : 150 },\n",
        "    1003 : {\"Name\" : \"Cheese\", \"Price\" : 117, \"net_wt\" : \"200 gram\", \"Brand\" : \"Go\", \"Quantity\" : 100 },\n",
        "    1004 : {\"Name\" : \"Yoghurt\", \"Price\" : 24, \"net_wt\" : \"100 gram\", \"Brand\" : \"Milky\", \"Quantity\" : 200},\n",
        "    1005 : {\"Name\" : \"Butter\", \"Price\" : 48, \"net_wt\" : \"100 gram\", \"Brand\" : \"Amul\", \"Quantity\" : 100 }, \n",
        "    1006 : {\"Name\" : \"Buttermilk\", \"Price\" : 12, \"net_wt\" : \"140 gram\", \"Brand\" : \"Mother Dairy\", \"Quantity\" : 120 },\n",
        "    1007 : {\"Name\" : \"Condensed Milk\", \"Price\" : 128, \"net_wt\" : \"400 gram\", \"Brand\" : \"Nestle\", \"Quantity\" : 150 },\n",
        "    1008 : {\"Name\" : \"Lassi\", \"Price\" : 70, \"net_wt\" : \"1 Litre\", \"Brand\" : \"Amul\", \"Quantity\" : 120 },\n",
        "    1009 : {\"Name\" : \"Bread\", \"Price\" : 39, \"net_wt\" : \"400 gram\", \"Brand\" : \"Modern\", \"Quantity\" : 150 },\n",
        "    1010 : {\"Name\" : \"Burger Buns\", \"Price\" : 17, \"net_wt\" : \"140 gram\", \"Brand\" : \"Modern\", \"Quantity\" : 120 },\n",
        "    1011 : {\"Name\" : \"Fruit Buns\", \"Price\" : 35, \"net_wt\" : \"200 gram\", \"Brand\" : \"Modern\", \"Quantity\" : 120 },\n",
        "    1012 : {\"Name\" : \"Eggs\", \"Price\" : 38, \"net_wt\" : \"6 units\", \"Brand\" : \"S Sons Agro\", \"Quantity\" : 150 },\n",
        "    1013 : {\"Name\" : \"Ghee\", \"Price\" : 495, \"net_wt\" : \"1 litre\", \"Brand\" : \"Amul\", \"Quantity\" : 150 },\n",
        "    1014 : {\"Name\" : \"Cookies\", \"Price\" : 20, \"net_wt\" : \"75 gram\", \"Brand\" : \"Britannia\", \"Quantity\" : 120 },\n",
        "    1015 : {\"Name\" : \"Chocobakes\", \"Price\" : 51, \"net_wt\" : \"150 gram\", \"Brand\" : \"Cadbury\", \"Quantity\" : 200 },\n",
        "    1016 : {\"Name\" : \"Cheese Balls\", \"Price\" : 72, \"net_wt\" : \"140 gram\", \"Brand\" : \"Peppy\", \"Quantity\" : 120 },\n",
        "    1017 : {\"Name\" : \"Nachos\", \"Price\" : 52, \"net_wt\" : \"180 gram\", \"Brand\" : \"Makino\", \"Quantity\" : 200 },\n",
        "    1018 : {\"Name\" : \"Aloo Bhujia\", \"Price\" : 99, \"net_wt\" : \"750 gram\", \"Brand\" : \"Parle\", \"Quantity\" : 120 },\n",
        "    1019 : {\"Name\" : \"Banana Chips\", \"Price\" : 55, \"net_wt\" : \"170 gram\", \"Brand\" : \"Flipkart\", \"Quantity\" : 100 },\n",
        "    1020 : {\"Name\" : \"Instant Coffee\", \"Price\" : 115, \"net_wt\" : \"500 gram\", \"Brand\" : \"Bru\", \"Quantity\" : 120 },\n",
        "    1021 : {\"Name\" : \"Orange Juice\", \"Price\" : 79, \"net_wt\" : \"1 litre\", \"Brand\" : \"Paper Boat\", \"Quantity\" : 120 },\n",
        "    1022 : {\"Name\" : \"Mixed Fruit Juice\", \"Price\" : 57, \"net_wt\" : \"1 Litre\", \"Brand\" : \"Paperboat\", \"Quantity\" : 120 },\n",
        "    1023 : {\"Name\" : \"Guava Juice\", \"Price\" : 52, \"net_wt\" : \"1 Litre\", \"Brand\" : \"Paperboat\", \"Quantity\" : 120 },\n",
        "    1024 : {\"Name\" : \"Pomegranate Juice\", \"Price\" : 60, \"net_wt\" : \"1 Litre\", \"Brand\" : \"Real\", \"Quantity\" : 120 },\n",
        "    1035 : {\"Name\" : \"Anar Juice\", \"Price\" : 140, \"net_wt\" : \"1 Litre\", \"Brand\" : \"Paperboat\", \"Quantity\" : 120 },\n",
        "    1026 : {\"Name\" : \"Chocolate Syrup\", \"Price\" : 79, \"net_wt\" : \"200 gram\", \"Brand\" : \"Hershey's\", \"Quantity\" : 200 },\n",
        "    1027 : {\"Name\" : \"Iced Tea Lemon\", \"Price\" : 180, \"net_wt\" : \"180 gram\", \"Brand\" : \"Nestle\", \"Quantity\" : 120 },\n",
        "    1028 : {\"Name\" : \"Instant Noodle\", \"Price\" : 136, \"net_wt\" : \"840 gram\", \"Brand\" : \"Maggie\", \"Quantity\" : 150 },\n",
        "    1029 : {\"Name\" : \"Dark Choclate Bars\", \"Price\" : 76, \"net_wt\" : \"80 gram\", \"Brand\" : \"Cadbury\", \"Quantity\" : 120 },\n",
        "    1030 : {\"Name\" : \"Lemon Mint\", \"Price\" : 100, \"net_wt\" : \"80.85 gram\", \"Brand\" : \"Doublemint\", \"Quantity\" : 120 },\n",
        "    1031 : {\"Name\" : \"Milky Bars\", \"Price\" : 20, \"net_wt\" : \"45 gram\", \"Brand\" : \"Nestle\", \"Quantity\" : 150 },\n",
        "    1032 : {\"Name\" : \"Choclate Cake\", \"Price\" : 54, \"net_wt\" : \"126 gram\", \"Brand\" : \"Cadbury\", \"Quantity\" : 120 },\n",
        "    1033 : {\"Name\" : \"Chikki\", \"Price\" : 27, \"net_wt\" : \"90 gram\", \"Brand\" : \"Paper Boat\", \"Quantity\" : 120 },\n",
        "    1034 : {\"Name\" : \"Rasogolla\", \"Price\" : 157, \"net_wt\" : \"1 kilogram\", \"Brand\" : \"Lalji\", \"Quantity\" : 100 },\n",
        "    1035 : {\"Name\" : \"Perk\", \"Price\" : 74, \"net_wt\" : \"137.7 gram\", \"Brand\" : \"Cadbury\", \"Quantity\" : 120 },\n",
        "    1036 : {\"Name\" : \"Gulab Jamun\", \"Price\" : 157, \"net_wt\" : \"1 kilogram\", \"Brand\" : \"Lalji\", \"Quantity\" : 120 },\n",
        "    1037 : {\"Name\" : \"Munch Bars\", \"Price\" : 99, \"net_wt\" : \"208 gram\", \"Brand\" : \"Nestle\", \"Quantity\" : 120 },\n",
        "    1038 : {\"Name\" : \"Tomato Ketchup\", \"Price\" : 110, \"net_wt\" : \"950 gram\", \"Brand\" : \"Kissan\", \"Quantity\" : 120 },\n",
        "    1039 : {\"Name\" : \"Mayonnaise\", \"Price\" : 147, \"net_wt\" : \"875 gram\", \"Brand\" : \"Veeba\", \"Quantity\" : 120 },\n",
        "    1040 : {\"Name\" : \"Mixed Fruit jam\", \"Price\" : 65, \"net_wt\" : \"200 gram\", \"Brand\" : \"Nestle\", \"Quantity\" : 120 },\n",
        "}"
      ],
      "execution_count": 30,
      "outputs": []
    },
    {
      "cell_type": "code",
      "metadata": {
        "id": "srIrrL8hpprd"
      },
      "source": [
        "import json"
      ],
      "execution_count": 38,
      "outputs": []
    },
    {
      "cell_type": "code",
      "metadata": {
        "id": "MTuKok0Gppym"
      },
      "source": [
        "record = json.dumps(products)"
      ],
      "execution_count": 39,
      "outputs": []
    },
    {
      "cell_type": "code",
      "metadata": {
        "colab": {
          "base_uri": "https://localhost:8080/",
          "height": 137
        },
        "id": "RASMIuWy4BsQ",
        "outputId": "f1ade651-3f34-48bd-ff2b-e84d1277b5a6"
      },
      "source": [
        "record"
      ],
      "execution_count": 40,
      "outputs": [
        {
          "output_type": "execute_result",
          "data": {
            "application/vnd.google.colaboratory.intrinsic+json": {
              "type": "string"
            },
            "text/plain": [
              "'{\"1001\": {\"Name\": \"Milk\", \"Price\": 45, \"net_wt\": \"1 Litre\", \"Brand\": \"Amul\", \"Quantity\": 100}, \"1002\": {\"Name\": \"Paneer\", \"Price\": 83, \"net_wt\": \"200 gram\", \"Brand\": \"Gowardhan\", \"Quantity\": 150}, \"1003\": {\"Name\": \"Cheese\", \"Price\": 117, \"net_wt\": \"200 gram\", \"Brand\": \"Go\", \"Quantity\": 100}, \"1004\": {\"Name\": \"Yoghurt\", \"Price\": 24, \"net_wt\": \"100 gram\", \"Brand\": \"Milky\", \"Quantity\": 200}, \"1005\": {\"Name\": \"Butter\", \"Price\": 48, \"net_wt\": \"100 gram\", \"Brand\": \"Amul\", \"Quantity\": 100}, \"1006\": {\"Name\": \"Buttermilk\", \"Price\": 12, \"net_wt\": \"140 gram\", \"Brand\": \"Mother Dairy\", \"Quantity\": 120}, \"1007\": {\"Name\": \"Condensed Milk\", \"Price\": 128, \"net_wt\": \"400 gram\", \"Brand\": \"Nestle\", \"Quantity\": 150}, \"1008\": {\"Name\": \"Lassi\", \"Price\": 70, \"net_wt\": \"1 Litre\", \"Brand\": \"Amul\", \"Quantity\": 120}, \"1009\": {\"Name\": \"Bread\", \"Price\": 39, \"net_wt\": \"400 gram\", \"Brand\": \"Modern\", \"Quantity\": 150}, \"1010\": {\"Name\": \"Burger Buns\", \"Price\": 17, \"net_wt\": \"140 gram\", \"Brand\": \"Modern\", \"Quantity\": 120}, \"1011\": {\"Name\": \"Fruit Buns\", \"Price\": 35, \"net_wt\": \"200 gram\", \"Brand\": \"Modern\", \"Quantity\": 120}, \"1012\": {\"Name\": \"Eggs\", \"Price\": 38, \"net_wt\": \"6 units\", \"Brand\": \"S Sons Agro\", \"Quantity\": 150}, \"1013\": {\"Name\": \"Ghee\", \"Price\": 495, \"net_wt\": \"1 litre\", \"Brand\": \"Amul\", \"Quantity\": 150}, \"1014\": {\"Name\": \"Cookies\", \"Price\": 20, \"net_wt\": \"75 gram\", \"Brand\": \"Britannia\", \"Quantity\": 120}, \"1015\": {\"Name\": \"Chocobakes\", \"Price\": 51, \"net_wt\": \"150 gram\", \"Brand\": \"Cadbury\", \"Quantity\": 200}, \"1016\": {\"Name\": \"Cheese Balls\", \"Price\": 72, \"net_wt\": \"140 gram\", \"Brand\": \"Peppy\", \"Quantity\": 120}, \"1017\": {\"Name\": \"Nachos\", \"Price\": 52, \"net_wt\": \"180 gram\", \"Brand\": \"Makino\", \"Quantity\": 200}, \"1018\": {\"Name\": \"Aloo Bhujia\", \"Price\": 99, \"net_wt\": \"750 gram\", \"Brand\": \"Parle\", \"Quantity\": 120}, \"1019\": {\"Name\": \"Banana Chips\", \"Price\": 55, \"net_wt\": \"170 gram\", \"Brand\": \"Flipkart\", \"Quantity\": 100}, \"1020\": {\"Name\": \"Instant Coffee\", \"Price\": 115, \"net_wt\": \"500 gram\", \"Brand\": \"Bru\", \"Quantity\": 120}, \"1021\": {\"Name\": \"Orange Juice\", \"Price\": 79, \"net_wt\": \"1 litre\", \"Brand\": \"Paper Boat\", \"Quantity\": 120}, \"1022\": {\"Name\": \"Mixed Fruit Juice\", \"Price\": 57, \"net_wt\": \"1 Litre\", \"Brand\": \"Paperboat\", \"Quantity\": 120}, \"1023\": {\"Name\": \"Guava Juice\", \"Price\": 52, \"net_wt\": \"1 Litre\", \"Brand\": \"Paperboat\", \"Quantity\": 120}, \"1024\": {\"Name\": \"Pomegranate Juice\", \"Price\": 60, \"net_wt\": \"1 Litre\", \"Brand\": \"Real\", \"Quantity\": 120}, \"1035\": {\"Name\": \"Perk\", \"Price\": 74, \"net_wt\": \"137.7 gram\", \"Brand\": \"Cadbury\", \"Quantity\": 120}, \"1026\": {\"Name\": \"Chocolate Syrup\", \"Price\": 79, \"net_wt\": \"200 gram\", \"Brand\": \"Hershey\\'s\", \"Quantity\": 200}, \"1027\": {\"Name\": \"Iced Tea Lemon\", \"Price\": 180, \"net_wt\": \"180 gram\", \"Brand\": \"Nestle\", \"Quantity\": 120}, \"1028\": {\"Name\": \"Instant Noodle\", \"Price\": 136, \"net_wt\": \"840 gram\", \"Brand\": \"Maggie\", \"Quantity\": 150}, \"1029\": {\"Name\": \"Dark Choclate Bars\", \"Price\": 76, \"net_wt\": \"80 gram\", \"Brand\": \"Cadbury\", \"Quantity\": 120}, \"1030\": {\"Name\": \"Lemon Mint\", \"Price\": 100, \"net_wt\": \"80.85 gram\", \"Brand\": \"Doublemint\", \"Quantity\": 120}, \"1031\": {\"Name\": \"Milky Bars\", \"Price\": 20, \"net_wt\": \"45 gram\", \"Brand\": \"Nestle\", \"Quantity\": 150}, \"1032\": {\"Name\": \"Choclate Cake\", \"Price\": 54, \"net_wt\": \"126 gram\", \"Brand\": \"Cadbury\", \"Quantity\": 120}, \"1033\": {\"Name\": \"Chikki\", \"Price\": 27, \"net_wt\": \"90 gram\", \"Brand\": \"Paper Boat\", \"Quantity\": 120}, \"1034\": {\"Name\": \"Rasogolla\", \"Price\": 157, \"net_wt\": \"1 kilogram\", \"Brand\": \"Lalji\", \"Quantity\": 100}, \"1036\": {\"Name\": \"Gulab Jamun\", \"Price\": 157, \"net_wt\": \"1 kilogram\", \"Brand\": \"Lalji\", \"Quantity\": 120}, \"1037\": {\"Name\": \"Munch Bars\", \"Price\": 99, \"net_wt\": \"208 gram\", \"Brand\": \"Nestle\", \"Quantity\": 120}, \"1038\": {\"Name\": \"Tomato Ketchup\", \"Price\": 110, \"net_wt\": \"950 gram\", \"Brand\": \"Kissan\", \"Quantity\": 120}, \"1039\": {\"Name\": \"Mayonnaise\", \"Price\": 147, \"net_wt\": \"875 gram\", \"Brand\": \"Veeba\", \"Quantity\": 120}, \"1040\": {\"Name\": \"Mixed Fruit jam\", \"Price\": 65, \"net_wt\": \"200 gram\", \"Brand\": \"Nestle\", \"Quantity\": 120}}'"
            ]
          },
          "metadata": {},
          "execution_count": 40
        }
      ]
    },
    {
      "cell_type": "code",
      "metadata": {
        "id": "WLzjQVK84Byz"
      },
      "source": [
        "fd = open(\"product.json\", \"w\")\n",
        "\n",
        "fd.write(record)\n",
        "\n",
        "fd.close()"
      ],
      "execution_count": 41,
      "outputs": []
    }
  ]
}