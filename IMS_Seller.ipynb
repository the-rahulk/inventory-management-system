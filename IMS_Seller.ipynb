{
  "nbformat": 4,
  "nbformat_minor": 0,
  "metadata": {
    "colab": {
      "name": "IMS Seller.ipynb",
      "provenance": []
    },
    "kernelspec": {
      "name": "python3",
      "display_name": "Python 3"
    },
    "language_info": {
      "name": "python"
    }
  },
  "cells": [
    {
      "cell_type": "code",
      "metadata": {
        "id": "HY_fTqT67GGf"
      },
      "source": [
        "fd = open(\"product.json\",\"r\")\n",
        "\n",
        "records = fd.read()\n",
        "\n",
        "fd.close()"
      ],
      "execution_count": 22,
      "outputs": []
    },
    {
      "cell_type": "code",
      "metadata": {
        "id": "190mIivfYWvk"
      },
      "source": [
        "import json"
      ],
      "execution_count": 23,
      "outputs": []
    },
    {
      "cell_type": "code",
      "metadata": {
        "id": "Kl6ow0518Jco"
      },
      "source": [
        "product = json.loads(records)"
      ],
      "execution_count": 24,
      "outputs": []
    },
    {
      "cell_type": "code",
      "metadata": {
        "colab": {
          "base_uri": "https://localhost:8080/",
          "height": 137
        },
        "id": "30__u2YG6d6Q",
        "outputId": "9a1442e0-3571-42b6-f578-fb8c5feb72e2"
      },
      "source": [
        "product"
      ],
      "execution_count": 14,
      "outputs": [
        {
          "output_type": "execute_result",
          "data": {
            "application/vnd.google.colaboratory.intrinsic+json": {
              "type": "string"
            },
            "text/plain": [
              "'{\"1001\": {\"Name\": \"Milk\", \"Price\": 45, \"net_wt\": \"1 Litre\", \"Brand\": \"Amul\", \"Quantity\": 100}, \"1002\": {\"Name\": \"Paneer\", \"Price\": 83, \"net_wt\": \"200 gram\", \"Brand\": \"Gowardhan\", \"Quantity\": 150}, \"1003\": {\"Name\": \"Cheese\", \"Price\": 117, \"net_wt\": \"200 gram\", \"Brand\": \"Go\", \"Quantity\": 100}, \"1004\": {\"Name\": \"Yoghurt\", \"Price\": 24, \"net_wt\": \"100 gram\", \"Brand\": \"Milky\", \"Quantity\": 200}, \"1005\": {\"Name\": \"Butter\", \"Price\": 48, \"net_wt\": \"100 gram\", \"Brand\": \"Amul\", \"Quantity\": 100}, \"1006\": {\"Name\": \"Buttermilk\", \"Price\": 12, \"net_wt\": \"140 gram\", \"Brand\": \"Mother Dairy\", \"Quantity\": 120}, \"1007\": {\"Name\": \"Condensed Milk\", \"Price\": 128, \"net_wt\": \"400 gram\", \"Brand\": \"Nestle\", \"Quantity\": 150}, \"1008\": {\"Name\": \"Lassi\", \"Price\": 70, \"net_wt\": \"1 Litre\", \"Brand\": \"Amul\", \"Quantity\": 120}, \"1009\": {\"Name\": \"Bread\", \"Price\": 39, \"net_wt\": \"400 gram\", \"Brand\": \"Modern\", \"Quantity\": 150}, \"1010\": {\"Name\": \"Burger Buns\", \"Price\": 17, \"net_wt\": \"140 gram\", \"Brand\": \"Modern\", \"Quantity\": 120}, \"1011\": {\"Name\": \"Fruit Buns\", \"Price\": 35, \"net_wt\": \"200 gram\", \"Brand\": \"Modern\", \"Quantity\": 120}, \"1012\": {\"Name\": \"Eggs\", \"Price\": 38, \"net_wt\": \"6 units\", \"Brand\": \"S Sons Agro\", \"Quantity\": 150}, \"1013\": {\"Name\": \"Ghee\", \"Price\": 495, \"net_wt\": \"1 litre\", \"Brand\": \"Amul\", \"Quantity\": 150}, \"1014\": {\"Name\": \"Cookies\", \"Price\": 20, \"net_wt\": \"75 gram\", \"Brand\": \"Britannia\", \"Quantity\": 120}, \"1015\": {\"Name\": \"Chocobakes\", \"Price\": 51, \"net_wt\": \"150 gram\", \"Brand\": \"Cadbury\", \"Quantity\": 200}, \"1016\": {\"Name\": \"Cheese Balls\", \"Price\": 72, \"net_wt\": \"140 gram\", \"Brand\": \"Peppy\", \"Quantity\": 120}, \"1017\": {\"Name\": \"Nachos\", \"Price\": 52, \"net_wt\": \"180 gram\", \"Brand\": \"Makino\", \"Quantity\": 200}, \"1018\": {\"Name\": \"Aloo Bhujia\", \"Price\": 99, \"net_wt\": \"750 gram\", \"Brand\": \"Parle\", \"Quantity\": 120}, \"1019\": {\"Name\": \"Banana Chips\", \"Price\": 55, \"net_wt\": \"170 gram\", \"Brand\": \"Flipkart\", \"Quantity\": 100}, \"1020\": {\"Name\": \"Instant Coffee\", \"Price\": 115, \"net_wt\": \"500 gram\", \"Brand\": \"Bru\", \"Quantity\": 120}, \"1021\": {\"Name\": \"Orange Juice\", \"Price\": 79, \"net_wt\": \"1 litre\", \"Brand\": \"Paper Boat\", \"Quantity\": 120}, \"1022\": {\"Name\": \"Mixed Fruit Juice\", \"Price\": 57, \"net_wt\": \"1 Litre\", \"Brand\": \"Paperboat\", \"Quantity\": 120}, \"1023\": {\"Name\": \"Guava Juice\", \"Price\": 52, \"net_wt\": \"1 Litre\", \"Brand\": \"Paperboat\", \"Quantity\": 120}, \"1024\": {\"Name\": \"Pomegranate Juice\", \"Price\": 60, \"net_wt\": \"1 Litre\", \"Brand\": \"Real\", \"Quantity\": 120}, \"1035\": {\"Name\": \"Perk\", \"Price\": 74, \"net_wt\": \"137.7 gram\", \"Brand\": \"Cadbury\", \"Quantity\": 120}, \"1026\": {\"Name\": \"Chocolate Syrup\", \"Price\": 79, \"net_wt\": \"200 gram\", \"Brand\": \"Hershey\\'s\", \"Quantity\": 200}, \"1027\": {\"Name\": \"Iced Tea Lemon\", \"Price\": 180, \"net_wt\": \"180 gram\", \"Brand\": \"Nestle\", \"Quantity\": 120}, \"1028\": {\"Name\": \"Instant Noodle\", \"Price\": 136, \"net_wt\": \"840 gram\", \"Brand\": \"Maggie\", \"Quantity\": 150}, \"1029\": {\"Name\": \"Dark Choclate Bars\", \"Price\": 76, \"net_wt\": \"80 gram\", \"Brand\": \"Cadbury\", \"Quantity\": 120}, \"1030\": {\"Name\": \"Lemon Mint\", \"Price\": 100, \"net_wt\": \"80.85 gram\", \"Brand\": \"Doublemint\", \"Quantity\": 120}, \"1031\": {\"Name\": \"Milky Bars\", \"Price\": 20, \"net_wt\": \"45 gram\", \"Brand\": \"Nestle\", \"Quantity\": 150}, \"1032\": {\"Name\": \"Choclate Cake\", \"Price\": 54, \"net_wt\": \"126 gram\", \"Brand\": \"Cadbury\", \"Quantity\": 120}, \"1033\": {\"Name\": \"Chikki\", \"Price\": 27, \"net_wt\": \"90 gram\", \"Brand\": \"Paper Boat\", \"Quantity\": 120}, \"1034\": {\"Name\": \"Rasogolla\", \"Price\": 157, \"net_wt\": \"1 kilogram\", \"Brand\": \"Lalji\", \"Quantity\": 100}, \"1036\": {\"Name\": \"Gulab Jamun\", \"Price\": 157, \"net_wt\": \"1 kilogram\", \"Brand\": \"Lalji\", \"Quantity\": 120}, \"1037\": {\"Name\": \"Munch Bars\", \"Price\": 99, \"net_wt\": \"208 gram\", \"Brand\": \"Nestle\", \"Quantity\": 120}, \"1038\": {\"Name\": \"Tomato Ketchup\", \"Price\": 110, \"net_wt\": \"950 gram\", \"Brand\": \"Kissan\", \"Quantity\": 120}, \"1039\": {\"Name\": \"Mayonnaise\", \"Price\": 147, \"net_wt\": \"875 gram\", \"Brand\": \"Veeba\", \"Quantity\": 120}, \"1040\": {\"Name\": \"Mixed Fruit jam\", \"Price\": 65, \"net_wt\": \"200 gram\", \"Brand\": \"Nestle\", \"Quantity\": 120}}'"
            ]
          },
          "metadata": {},
          "execution_count": 14
        }
      ]
    },
    {
      "cell_type": "code",
      "metadata": {
        "colab": {
          "base_uri": "https://localhost:8080/"
        },
        "id": "IIIzp8zw8Jq1",
        "outputId": "515fb5bd-39b0-4de9-a9ec-bb66608e53eb"
      },
      "source": [
        "print(\"**********Welcome to the admin panel.**********\")\n",
        "print(\"\\n\\n\")\n",
        "print(\"1. Add a product.\")\n",
        "print(\"2. Check Product Quantity.\")\n",
        "print(\"3. Update the quantity of a product.\")\n",
        "print(\"\\n\")\n",
        "ch = int(input(\"Enter Your Choice:: \"))\n",
        "\n"
      ],
      "execution_count": 25,
      "outputs": [
        {
          "name": "stdout",
          "output_type": "stream",
          "text": [
            "**********Welcome to the admin panel.**********\n",
            "\n",
            "\n",
            "\n",
            "1. Add a product.\n",
            "2. Check Product Quantity.\n",
            "3. Update the quantity of a product.\n",
            "\n",
            "\n",
            "Enter Your Choice:: 1\n"
          ]
        }
      ]
    },
    {
      "cell_type": "code",
      "metadata": {
        "id": "RRldmiZO9EEC",
        "colab": {
          "base_uri": "https://localhost:8080/",
          "height": 350
        },
        "outputId": "f46e41d0-6727-4027-f565-6f93ea2e3cd2"
      },
      "source": [
        "if(ch==1) :\n",
        "  print(\"Enter the Product Details:: \")\n",
        "  id = input(\"Enter your Product ID:: \")\n",
        "  nm = input(\"Enter your Product Name:: \")\n",
        "  cost = int(input(\"Enter the price:: \"))\n",
        "  net = input(\"Enter the net weight of the product:: \")\n",
        "  brnd = input(\"Enter the Brand:: \") \n",
        "  qty = int(input(\"Enter the quantity:: \"))\n",
        "  product[id] = {'Name': nm,'Price': cost, 'net_wt': net,'Brand': brnd,'Quantity': qty}\n",
        "\n",
        "  update = json.dumps(product)\n",
        "\n",
        "  fd = open(\"product.json\", \"w\")\n",
        "  fd.write(update)\n",
        "  fd.close()\n",
        "\n",
        "elif(ch==2) :\n",
        "  id = input(\"Enter the Product ID:: \")\n",
        "  print(\"Product ID: \",id)\n",
        "  print(\"--------------------------\")\n",
        "  print(\"Product Name: \",product[id]['Name'])\n",
        "  print(\"Price: \",product[id]['Price'])\n",
        "  print(\"Net Weight: \",product[id]['net_wt'])\n",
        "  print(\"Brand: \",product[id]['Brand'])\n",
        "  print(\"Quantity: \",product[id]['Quantity'])\n",
        "\n",
        "elif(ch==3) :\n",
        "  id = input(\"Enter the Product ID:: \")\n",
        "  print(\"--------------------------\")\n",
        "  print(\"Product Name: \",product[id]['Name'])\n",
        "  qty = int(input(\"Enter the quantity:: \"))\n",
        "\n",
        "  product[id]['Quantity'] = product[id]['Quantity'] + qty\n",
        "\n",
        "else :\n",
        "  print(\"You choose a wrong option.\")\n"
      ],
      "execution_count": 26,
      "outputs": [
        {
          "name": "stdout",
          "output_type": "stream",
          "text": [
            "Enter the Product Details:: \n",
            "Enter your Product ID:: 1041\n",
            "Enter your Product Name:: Silk\n",
            "Enter the price:: 200\n",
            "Enter the net weight of the product:: 500 gram\n",
            "Enter the Brand:: Cadbury\n",
            "Enter the quantity:: 100\n"
          ]
        },
        {
          "output_type": "error",
          "ename": "TypeError",
          "evalue": "ignored",
          "traceback": [
            "\u001b[0;31m---------------------------------------------------------------------------\u001b[0m",
            "\u001b[0;31mTypeError\u001b[0m                                 Traceback (most recent call last)",
            "\u001b[0;32m<ipython-input-26-b1b2cb49183b>\u001b[0m in \u001b[0;36m<module>\u001b[0;34m()\u001b[0m\n\u001b[1;32m      7\u001b[0m   \u001b[0mbrnd\u001b[0m \u001b[0;34m=\u001b[0m \u001b[0minput\u001b[0m\u001b[0;34m(\u001b[0m\u001b[0;34m\"Enter the Brand:: \"\u001b[0m\u001b[0;34m)\u001b[0m\u001b[0;34m\u001b[0m\u001b[0;34m\u001b[0m\u001b[0m\n\u001b[1;32m      8\u001b[0m   \u001b[0mqty\u001b[0m \u001b[0;34m=\u001b[0m \u001b[0mint\u001b[0m\u001b[0;34m(\u001b[0m\u001b[0minput\u001b[0m\u001b[0;34m(\u001b[0m\u001b[0;34m\"Enter the quantity:: \"\u001b[0m\u001b[0;34m)\u001b[0m\u001b[0;34m)\u001b[0m\u001b[0;34m\u001b[0m\u001b[0;34m\u001b[0m\u001b[0m\n\u001b[0;32m----> 9\u001b[0;31m   \u001b[0mproduct\u001b[0m\u001b[0;34m[\u001b[0m\u001b[0mid\u001b[0m\u001b[0;34m]\u001b[0m \u001b[0;34m=\u001b[0m \u001b[0;34m{\u001b[0m\u001b[0;34m'Name'\u001b[0m\u001b[0;34m:\u001b[0m \u001b[0mnm\u001b[0m\u001b[0;34m,\u001b[0m\u001b[0;34m'Price'\u001b[0m\u001b[0;34m:\u001b[0m \u001b[0mcost\u001b[0m\u001b[0;34m,\u001b[0m \u001b[0;34m'net_wt'\u001b[0m\u001b[0;34m:\u001b[0m \u001b[0mnet\u001b[0m\u001b[0;34m,\u001b[0m\u001b[0;34m'Brand'\u001b[0m\u001b[0;34m:\u001b[0m \u001b[0mbrnd\u001b[0m\u001b[0;34m,\u001b[0m\u001b[0;34m'Quantity'\u001b[0m\u001b[0;34m:\u001b[0m \u001b[0mqty\u001b[0m\u001b[0;34m}\u001b[0m\u001b[0;34m\u001b[0m\u001b[0;34m\u001b[0m\u001b[0m\n\u001b[0m\u001b[1;32m     10\u001b[0m \u001b[0;34m\u001b[0m\u001b[0m\n\u001b[1;32m     11\u001b[0m   \u001b[0mupdate\u001b[0m \u001b[0;34m=\u001b[0m \u001b[0mjson\u001b[0m\u001b[0;34m.\u001b[0m\u001b[0mdumps\u001b[0m\u001b[0;34m(\u001b[0m\u001b[0mproduct\u001b[0m\u001b[0;34m)\u001b[0m\u001b[0;34m\u001b[0m\u001b[0;34m\u001b[0m\u001b[0m\n",
            "\u001b[0;31mTypeError\u001b[0m: 'str' object does not support item assignment"
          ]
        }
      ]
    },
    {
      "cell_type": "code",
      "metadata": {
        "colab": {
          "base_uri": "https://localhost:8080/",
          "height": 52
        },
        "id": "oimx9mllcmAZ",
        "outputId": "196bfec1-7cae-44f8-aa30-ed7748042c93"
      },
      "source": [
        "id1= int(input(\"Enter the Id: \"))\n",
        "\n",
        "product[id1]"
      ],
      "execution_count": 21,
      "outputs": [
        {
          "name": "stdout",
          "output_type": "stream",
          "text": [
            "Enter the Id: 1001\n"
          ]
        },
        {
          "output_type": "execute_result",
          "data": {
            "application/vnd.google.colaboratory.intrinsic+json": {
              "type": "string"
            },
            "text/plain": [
              "','"
            ]
          },
          "metadata": {},
          "execution_count": 21
        }
      ]
    },
    {
      "cell_type": "code",
      "metadata": {
        "id": "bdxXF3l-cmJW"
      },
      "source": [
        ""
      ],
      "execution_count": null,
      "outputs": []
    },
    {
      "cell_type": "code",
      "metadata": {
        "id": "6O5b5_oWcmQ3"
      },
      "source": [
        ""
      ],
      "execution_count": null,
      "outputs": []
    },
    {
      "cell_type": "code",
      "metadata": {
        "id": "zN9xIB_-cmV2"
      },
      "source": [
        ""
      ],
      "execution_count": null,
      "outputs": []
    },
    {
      "cell_type": "code",
      "metadata": {
        "id": "FVNjL6EccmaJ"
      },
      "source": [
        ""
      ],
      "execution_count": null,
      "outputs": []
    },
    {
      "cell_type": "code",
      "metadata": {
        "id": "lC3fri2tcmem"
      },
      "source": [
        ""
      ],
      "execution_count": null,
      "outputs": []
    },
    {
      "cell_type": "code",
      "metadata": {
        "colab": {
          "base_uri": "https://localhost:8080/"
        },
        "id": "KuVGBQrPcmoH",
        "outputId": "5192ab51-f73e-47dd-b1fb-b1acd8855e3e"
      },
      "source": [
        ""
      ],
      "execution_count": 35,
      "outputs": [
        {
          "output_type": "execute_result",
          "data": {
            "text/plain": [
              "300"
            ]
          },
          "metadata": {},
          "execution_count": 35
        }
      ]
    }
  ]
}